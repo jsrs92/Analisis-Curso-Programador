{
 "cells": [
  {
   "cell_type": "markdown",
   "id": "61023f07-6f7b-4b2f-ad97-f1b53493fbe7",
   "metadata": {
    "editable": true,
    "slideshow": {
     "slide_type": ""
    },
    "tags": []
   },
   "source": [
    "# Análisis de Estudiantes del Curso Programador"
   ]
  },
  {
   "cell_type": "markdown",
   "id": "49a4b8f7-68db-4c0e-9c41-a412ee864184",
   "metadata": {},
   "source": [
    "## En este proyecto, se hara un breve análisis de los estudiantes que han cursado PROGRAMADOR en un Centro de Formación Profesional en el año 2024. \n",
    "## El conjunto de datos incluye: \n",
    "- Genero: Indica el género del alumno siendo las opciones M/F/Otro\n",
    "- Edad: Indica la edad del alumno\n",
    "- Nacionalidad: Indica la nacionalidad del alumno.\n",
    "- Localidad: Indica la localidad en donde vive el alumno.\n",
    "- Finalizo:  Indica si el alumno aprobó con presentación de proyecto el curso Programador.\n",
    "- Motivos Abandono: Indica el motivo por el cual el alumno no ha podido continuar cursando. Desde problemas personales, laborales y de otra índole.\n",
    "- Continua Estudios: Indica si el alumno, después de aprobar el curso, ha continuado con sus estudios superiores."
   ]
  },
  {
   "cell_type": "markdown",
   "id": "dbc9bb47-e68b-4fab-b236-f35e3436d6be",
   "metadata": {
    "jp-MarkdownHeadingCollapsed": true
   },
   "source": [
    "### Herramientas Utilizadas\n",
    "- Python y librerias: pandas, numpy, matplotlib, seaborn, folium, wordcloud, re.\n",
    "- Jupyter Notebook para documentar y ejecutar el análisis paso a paso.\n",
    "- Dataset: Archivo CSV que contiene los registros de los alumnos."
   ]
  },
  {
   "cell_type": "markdown",
   "id": "01ed9831-fb49-46b7-a78c-1aa246cf2577",
   "metadata": {},
   "source": [
    "# Análisis Exploratorio de Datos\n",
    "- Importar las librerias utilizadas en esta sección: lectura de datos y sus características."
   ]
  },
  {
   "cell_type": "code",
   "execution_count": 4,
   "id": "8689a416-0468-42cc-ad2f-555555e13913",
   "metadata": {},
   "outputs": [],
   "source": [
    "# Importar la libreria y realizar el estudio\n",
    "import pandas\n",
    "alumnos = pandas.read_csv(\"Alumnos 2024.csv\")"
   ]
  },
  {
   "cell_type": "markdown",
   "id": "d423c130-ff92-4f8d-9095-c7be4eaee775",
   "metadata": {},
   "source": [
    "## Tamaño del dataset\n",
    "- Dado que es información sobre alumnos en un año de cursada, la cantidad de registros es pequeña. "
   ]
  },
  {
   "cell_type": "code",
   "execution_count": 5,
   "id": "2514bbcc-cdbd-4d2d-b4ff-d96764538301",
   "metadata": {},
   "outputs": [
    {
     "data": {
      "text/plain": [
       "(18, 7)"
      ]
     },
     "execution_count": 5,
     "metadata": {},
     "output_type": "execute_result"
    }
   ],
   "source": [
    "alumnos.shape"
   ]
  },
  {
   "cell_type": "markdown",
   "id": "64988d0f-794e-4f5b-abf0-abe902fc0afd",
   "metadata": {
    "jp-MarkdownHeadingCollapsed": true
   },
   "source": [
    "### Este conjunto de datos, contiene 18 registros y 7 campos."
   ]
  },
  {
   "cell_type": "markdown",
   "id": "d1f90156-7da4-4b0f-a215-0fcfdbe123e4",
   "metadata": {},
   "source": [
    "## Muestra de datos"
   ]
  },
  {
   "cell_type": "code",
   "execution_count": 6,
   "id": "da24efc8-f586-4039-85e1-f1e85a0b3848",
   "metadata": {},
   "outputs": [
    {
     "data": {
      "text/html": [
       "<div>\n",
       "<style scoped>\n",
       "    .dataframe tbody tr th:only-of-type {\n",
       "        vertical-align: middle;\n",
       "    }\n",
       "\n",
       "    .dataframe tbody tr th {\n",
       "        vertical-align: top;\n",
       "    }\n",
       "\n",
       "    .dataframe thead th {\n",
       "        text-align: right;\n",
       "    }\n",
       "</style>\n",
       "<table border=\"1\" class=\"dataframe\">\n",
       "  <thead>\n",
       "    <tr style=\"text-align: right;\">\n",
       "      <th></th>\n",
       "      <th>Genero</th>\n",
       "      <th>Edad</th>\n",
       "      <th>Nacionalidad</th>\n",
       "      <th>Localidad</th>\n",
       "      <th>Finalizo</th>\n",
       "      <th>Motivos Abandono</th>\n",
       "      <th>Continua Estudios</th>\n",
       "    </tr>\n",
       "  </thead>\n",
       "  <tbody>\n",
       "    <tr>\n",
       "      <th>0</th>\n",
       "      <td>F</td>\n",
       "      <td>19</td>\n",
       "      <td>Argentina</td>\n",
       "      <td>Berisso</td>\n",
       "      <td>No</td>\n",
       "      <td>Personal</td>\n",
       "      <td>No</td>\n",
       "    </tr>\n",
       "    <tr>\n",
       "      <th>1</th>\n",
       "      <td>M</td>\n",
       "      <td>25</td>\n",
       "      <td>Argentina</td>\n",
       "      <td>Berisso</td>\n",
       "      <td>No</td>\n",
       "      <td>Laboral</td>\n",
       "      <td>No</td>\n",
       "    </tr>\n",
       "    <tr>\n",
       "      <th>2</th>\n",
       "      <td>F</td>\n",
       "      <td>35</td>\n",
       "      <td>Argentina</td>\n",
       "      <td>Berisso</td>\n",
       "      <td>No</td>\n",
       "      <td>Laboral</td>\n",
       "      <td>No</td>\n",
       "    </tr>\n",
       "    <tr>\n",
       "      <th>3</th>\n",
       "      <td>M</td>\n",
       "      <td>52</td>\n",
       "      <td>Argentina</td>\n",
       "      <td>Berisso</td>\n",
       "      <td>No</td>\n",
       "      <td>Personal</td>\n",
       "      <td>No</td>\n",
       "    </tr>\n",
       "    <tr>\n",
       "      <th>4</th>\n",
       "      <td>M</td>\n",
       "      <td>22</td>\n",
       "      <td>Argentina</td>\n",
       "      <td>Berisso</td>\n",
       "      <td>No</td>\n",
       "      <td>Otro</td>\n",
       "      <td>No</td>\n",
       "    </tr>\n",
       "    <tr>\n",
       "      <th>5</th>\n",
       "      <td>M</td>\n",
       "      <td>19</td>\n",
       "      <td>Argentina</td>\n",
       "      <td>Berisso</td>\n",
       "      <td>Si</td>\n",
       "      <td>Ninguno</td>\n",
       "      <td>UTN</td>\n",
       "    </tr>\n",
       "    <tr>\n",
       "      <th>6</th>\n",
       "      <td>M</td>\n",
       "      <td>24</td>\n",
       "      <td>Argentina</td>\n",
       "      <td>Berisso</td>\n",
       "      <td>No</td>\n",
       "      <td>Personal</td>\n",
       "      <td>No</td>\n",
       "    </tr>\n",
       "    <tr>\n",
       "      <th>7</th>\n",
       "      <td>M</td>\n",
       "      <td>20</td>\n",
       "      <td>Argentina</td>\n",
       "      <td>Berisso</td>\n",
       "      <td>Si</td>\n",
       "      <td>Ninguno</td>\n",
       "      <td>CFP/CFL</td>\n",
       "    </tr>\n",
       "    <tr>\n",
       "      <th>8</th>\n",
       "      <td>F</td>\n",
       "      <td>20</td>\n",
       "      <td>Argentina</td>\n",
       "      <td>Berisso</td>\n",
       "      <td>No</td>\n",
       "      <td>Otro</td>\n",
       "      <td>No</td>\n",
       "    </tr>\n",
       "    <tr>\n",
       "      <th>9</th>\n",
       "      <td>F</td>\n",
       "      <td>56</td>\n",
       "      <td>Argentina</td>\n",
       "      <td>Berisso</td>\n",
       "      <td>No</td>\n",
       "      <td>Personal</td>\n",
       "      <td>No</td>\n",
       "    </tr>\n",
       "    <tr>\n",
       "      <th>10</th>\n",
       "      <td>F</td>\n",
       "      <td>27</td>\n",
       "      <td>Argentina</td>\n",
       "      <td>Berisso</td>\n",
       "      <td>Si</td>\n",
       "      <td>Ninguno</td>\n",
       "      <td>UNLP</td>\n",
       "    </tr>\n",
       "    <tr>\n",
       "      <th>11</th>\n",
       "      <td>F</td>\n",
       "      <td>26</td>\n",
       "      <td>Argentina</td>\n",
       "      <td>Berisso</td>\n",
       "      <td>No</td>\n",
       "      <td>Laboral</td>\n",
       "      <td>No</td>\n",
       "    </tr>\n",
       "    <tr>\n",
       "      <th>12</th>\n",
       "      <td>F</td>\n",
       "      <td>58</td>\n",
       "      <td>Argentina</td>\n",
       "      <td>Berisso</td>\n",
       "      <td>No</td>\n",
       "      <td>Personal</td>\n",
       "      <td>No</td>\n",
       "    </tr>\n",
       "    <tr>\n",
       "      <th>13</th>\n",
       "      <td>F</td>\n",
       "      <td>38</td>\n",
       "      <td>Argentina</td>\n",
       "      <td>Berisso</td>\n",
       "      <td>No</td>\n",
       "      <td>Personal</td>\n",
       "      <td>No</td>\n",
       "    </tr>\n",
       "    <tr>\n",
       "      <th>14</th>\n",
       "      <td>M</td>\n",
       "      <td>24</td>\n",
       "      <td>Argentina</td>\n",
       "      <td>Berisso</td>\n",
       "      <td>Si</td>\n",
       "      <td>Ninguno</td>\n",
       "      <td>UNLP</td>\n",
       "    </tr>\n",
       "    <tr>\n",
       "      <th>15</th>\n",
       "      <td>M</td>\n",
       "      <td>19</td>\n",
       "      <td>Argentina</td>\n",
       "      <td>Berisso</td>\n",
       "      <td>No</td>\n",
       "      <td>Otro</td>\n",
       "      <td>No</td>\n",
       "    </tr>\n",
       "    <tr>\n",
       "      <th>16</th>\n",
       "      <td>M</td>\n",
       "      <td>19</td>\n",
       "      <td>Argentina</td>\n",
       "      <td>Berisso</td>\n",
       "      <td>Si</td>\n",
       "      <td>Ninguno</td>\n",
       "      <td>UNLP</td>\n",
       "    </tr>\n",
       "    <tr>\n",
       "      <th>17</th>\n",
       "      <td>M</td>\n",
       "      <td>19</td>\n",
       "      <td>Argentina</td>\n",
       "      <td>Berisso</td>\n",
       "      <td>No</td>\n",
       "      <td>Otro</td>\n",
       "      <td>No</td>\n",
       "    </tr>\n",
       "  </tbody>\n",
       "</table>\n",
       "</div>"
      ],
      "text/plain": [
       "   Genero  Edad Nacionalidad Localidad Finalizo Motivos Abandono  \\\n",
       "0       F    19    Argentina   Berisso       No         Personal   \n",
       "1       M    25    Argentina   Berisso       No          Laboral   \n",
       "2       F    35    Argentina   Berisso       No          Laboral   \n",
       "3       M    52    Argentina   Berisso       No         Personal   \n",
       "4       M    22    Argentina   Berisso       No             Otro   \n",
       "5       M    19    Argentina   Berisso       Si          Ninguno   \n",
       "6       M    24    Argentina   Berisso       No         Personal   \n",
       "7       M    20    Argentina   Berisso       Si          Ninguno   \n",
       "8       F    20    Argentina   Berisso       No             Otro   \n",
       "9       F    56    Argentina   Berisso       No         Personal   \n",
       "10      F    27    Argentina   Berisso       Si          Ninguno   \n",
       "11      F    26    Argentina   Berisso       No          Laboral   \n",
       "12      F    58    Argentina   Berisso       No         Personal   \n",
       "13      F    38    Argentina   Berisso       No         Personal   \n",
       "14      M    24    Argentina   Berisso       Si          Ninguno   \n",
       "15      M    19    Argentina   Berisso       No             Otro   \n",
       "16      M    19    Argentina   Berisso       Si          Ninguno   \n",
       "17      M    19    Argentina   Berisso       No             Otro   \n",
       "\n",
       "   Continua Estudios  \n",
       "0                 No  \n",
       "1                 No  \n",
       "2                 No  \n",
       "3                 No  \n",
       "4                 No  \n",
       "5                UTN  \n",
       "6                 No  \n",
       "7            CFP/CFL  \n",
       "8                 No  \n",
       "9                 No  \n",
       "10              UNLP  \n",
       "11                No  \n",
       "12                No  \n",
       "13                No  \n",
       "14              UNLP  \n",
       "15                No  \n",
       "16              UNLP  \n",
       "17                No  "
      ]
     },
     "execution_count": 6,
     "metadata": {},
     "output_type": "execute_result"
    }
   ],
   "source": [
    "# Se visualiza el registro de estudiantes.\n",
    "alumnos"
   ]
  },
  {
   "cell_type": "markdown",
   "id": "a86865f4-8c8a-4646-8f31-e8eade7446fb",
   "metadata": {},
   "source": [
    "## Columnas y sus tipos de datos"
   ]
  },
  {
   "cell_type": "code",
   "execution_count": 7,
   "id": "5154364b-c831-4ae5-8b60-9af720f9edc8",
   "metadata": {},
   "outputs": [
    {
     "data": {
      "text/plain": [
       "Index(['Genero', 'Edad', 'Nacionalidad', 'Localidad', 'Finalizo',\n",
       "       'Motivos Abandono', 'Continua Estudios'],\n",
       "      dtype='object')"
      ]
     },
     "execution_count": 7,
     "metadata": {},
     "output_type": "execute_result"
    }
   ],
   "source": [
    "# Se visualizan los columnas del dataset\n",
    "alumnos.columns"
   ]
  },
  {
   "cell_type": "code",
   "execution_count": 8,
   "id": "bc1f51a7-8f91-427c-8ef9-62e8d7ec603b",
   "metadata": {},
   "outputs": [
    {
     "data": {
      "text/plain": [
       "Genero               object\n",
       "Edad                  int64\n",
       "Nacionalidad         object\n",
       "Localidad            object\n",
       "Finalizo             object\n",
       "Motivos Abandono     object\n",
       "Continua Estudios    object\n",
       "dtype: object"
      ]
     },
     "execution_count": 8,
     "metadata": {},
     "output_type": "execute_result"
    }
   ],
   "source": [
    "# Y tambien sus tipos \n",
    "alumnos.dtypes"
   ]
  },
  {
   "cell_type": "markdown",
   "id": "229ea6c9-7d4f-49ca-be72-7765a35862e2",
   "metadata": {},
   "source": [
    "### En ambos casos, tanto campo como tipo de dato son los correctos para el análisis, no hay necesidad de adecuarlos."
   ]
  },
  {
   "cell_type": "markdown",
   "id": "bb6dfe14-929c-467e-810b-854ee7fa9930",
   "metadata": {},
   "source": [
    "## Análisis estadístico descriptivo "
   ]
  },
  {
   "cell_type": "code",
   "execution_count": 9,
   "id": "98a76ef8-11bf-4ec3-a622-d7a23767f4ba",
   "metadata": {},
   "outputs": [
    {
     "data": {
      "text/plain": [
       "count    18.000000\n",
       "mean     29.000000\n",
       "std      13.297501\n",
       "min      19.000000\n",
       "25%      19.250000\n",
       "50%      24.000000\n",
       "75%      33.000000\n",
       "max      58.000000\n",
       "Name: Edad, dtype: float64"
      ]
     },
     "execution_count": 9,
     "metadata": {},
     "output_type": "execute_result"
    }
   ],
   "source": [
    "# Para este caso, solamente se cuenta con un campo de datos numericos.\n",
    "alumnos.Edad.describe()"
   ]
  },
  {
   "cell_type": "markdown",
   "id": "8544e01a-c031-438a-b6bc-567288b5e78e",
   "metadata": {},
   "source": [
    "### Hay estudiantes muy jóvenes, algunos terminaron la secundaria en el año 2023 e ingresaron inmediatamente a capacitarse en el Centro de Formación Profesional. \n",
    "\n",
    "### Pero este curso no es solo para jóvenes. Se reciben también a adultos de todas las edades que tengan ganas de aprender."
   ]
  },
  {
   "cell_type": "code",
   "execution_count": 10,
   "id": "27da1fac-d848-4635-8fc1-52d3e0965c77",
   "metadata": {},
   "outputs": [
    {
     "data": {
      "text/plain": [
       "Genero\n",
       "M    10\n",
       "F     8\n",
       "Name: count, dtype: int64"
      ]
     },
     "execution_count": 10,
     "metadata": {},
     "output_type": "execute_result"
    }
   ],
   "source": [
    "# La distribucion del curso dependiendo del genero.\n",
    "alumnos.Genero.value_counts()"
   ]
  },
  {
   "cell_type": "markdown",
   "id": "caf23579-0ccf-4bea-bc28-91f8b75b06ee",
   "metadata": {},
   "source": [
    "### En cuanto a la diversidad de estudiantes, hay más de estudiantes masculinos que femeninos al principio de la cursada. Es una tendencia que se repite a través de los años."
   ]
  },
  {
   "cell_type": "markdown",
   "id": "12089493-6f94-4ab1-a058-b4c355cc38cd",
   "metadata": {},
   "source": [
    "# Limpieza de Datos\n",
    "## Es importante señalar que el conjunto de datos empleado en este análisis ha sido sometido a un proceso de filtrado previo. Este proceso se llevó a cabo con el fin de proteger la información personal de los estudiantes, tales como DNI, números de teléfono y domicilio, los cuales fueron eliminados del conjunto de datos original. Por lo que la limpieza de datos no se verá reflejada aquí."
   ]
  },
  {
   "cell_type": "code",
   "execution_count": 11,
   "id": "efc0a013-f1d2-429f-9ae1-5855b5e729af",
   "metadata": {},
   "outputs": [
    {
     "data": {
      "text/plain": [
       "Genero               0\n",
       "Edad                 0\n",
       "Nacionalidad         0\n",
       "Localidad            0\n",
       "Finalizo             0\n",
       "Motivos Abandono     0\n",
       "Continua Estudios    0\n",
       "dtype: int64"
      ]
     },
     "execution_count": 11,
     "metadata": {},
     "output_type": "execute_result"
    }
   ],
   "source": [
    "# Suma de datos nulos, si es que los contiene.\n",
    "alumnos.isnull().sum()"
   ]
  },
  {
   "cell_type": "code",
   "execution_count": 12,
   "id": "874b1143-59f6-41db-8380-fdf4afaa6f87",
   "metadata": {},
   "outputs": [
    {
     "data": {
      "text/plain": [
       "np.int64(1)"
      ]
     },
     "execution_count": 12,
     "metadata": {},
     "output_type": "execute_result"
    }
   ],
   "source": [
    "# Suma de datos duplicados, si es que los contiene.\n",
    "alumnos.duplicated().sum()"
   ]
  },
  {
   "cell_type": "markdown",
   "id": "aa82b732-27dd-4928-b8d7-cb014c65daf1",
   "metadata": {},
   "source": [
    "### Este dataset no contiene datos nulos o repetidos."
   ]
  },
  {
   "cell_type": "markdown",
   "id": "65ab77ae-55d5-43cb-b9aa-f51339243b24",
   "metadata": {},
   "source": [
    "# Visualización de los Datos\n",
    "- Para la visualización de los datos vamos a requerir las siguientes librerias."
   ]
  },
  {
   "cell_type": "code",
   "execution_count": 13,
   "id": "ffcd5a1d-b4a4-468e-8727-d8aedcd51945",
   "metadata": {},
   "outputs": [],
   "source": [
    "# Se importan las librerias necesarias para la visualización.\n",
    "import matplotlib.pyplot as mp\n",
    "import seaborn"
   ]
  },
  {
   "cell_type": "markdown",
   "id": "ad1b79e7-bb53-476b-bcae-1bf1bf0df02e",
   "metadata": {},
   "source": [
    "## ¿Cuántos estudiantes han aprobado el curso Programador ?"
   ]
  },
  {
   "cell_type": "code",
   "execution_count": 14,
   "id": "61faf9fb-083e-44c9-a4a9-e892f6d4399f",
   "metadata": {},
   "outputs": [
    {
     "data": {
      "text/plain": [
       "<Axes: title={'center': 'Estudiantes que aprobaron el curso'}, xlabel='Finalizado', ylabel='Cantidad de Estudiantes'>"
      ]
     },
     "execution_count": 14,
     "metadata": {},
     "output_type": "execute_result"
    },
    {
     "data": {
      "image/png": "[encoded data removed]",
      "text/plain": [
       "<Figure size 1000x500 with 1 Axes>"
      ]
     },
     "metadata": {},
     "output_type": "display_data"
    }
   ],
   "source": [
    "# Visualizacion de alumnos que aprabaron y aquellos que no.\n",
    "mp.figure(figsize=(10,5))\n",
    "mp.title(\"Estudiantes que aprobaron el curso\")\n",
    "mp.ylabel(\"Cantidad de Estudiantes\")\n",
    "mp.yticks(range(0,14))\n",
    "mp.xlabel(\"Finalizado\")\n",
    "seaborn.countplot(x=alumnos.Finalizo, hue=alumnos.Finalizo, edgecolor=\"black\", palette=\"pastel\", legend=False)"
   ]
  },
  {
   "cell_type": "markdown",
   "id": "1d18f5fb-e701-4ab3-b7b8-9ea20d7d64ad",
   "metadata": {},
   "source": [
    "### Se arrancó el año con 18 inscriptos, entre masculinos y femeninos. Pero lamentablemente, solo 5 llegaron a presentar el proyecto final. El resto tuvo que dejar el curso por diferentes motivos: algunos por temas personales, otros por el trabajo, u por otras razones."
   ]
  },
  {
   "cell_type": "markdown",
   "id": "d29933e0-29d9-4418-8072-99d214af572e",
   "metadata": {},
   "source": [
    "## Con respecto a los que aprobaron ¿Han sido más hombres o mujeres?"
   ]
  },
  {
   "cell_type": "code",
   "execution_count": 15,
   "id": "0efdf953-f64b-47e2-ac94-dbcfcec0c826",
   "metadata": {},
   "outputs": [],
   "source": [
    "# Filtramos por aquellos que si han aprobado para visualizar que finilizaron mas hombres que mujeres el curso.\n",
    "condicion = alumnos['Finalizo'] == 'Si'\n",
    "alumnosAprobados = alumnos[condicion]\n"
   ]
  },
  {
   "cell_type": "code",
   "execution_count": 16,
   "id": "43b84cb9-6bba-4354-9356-f294d1f466ae",
   "metadata": {},
   "outputs": [
    {
     "data": {
      "text/plain": [
       "<Axes: title={'center': 'Cantidad de aprobados por Género'}, xlabel='Género', ylabel='Número de Estudiantes'>"
      ]
     },
     "execution_count": 16,
     "metadata": {},
     "output_type": "execute_result"
    },
    {
     "data": {
      "image/png": "[encoded data removed]",
      "text/plain": [
       "<Figure size 1000x500 with 1 Axes>"
      ]
     },
     "metadata": {},
     "output_type": "display_data"
    }
   ],
   "source": [
    "# Visualizacion de genero de los estudiantes que aprobaron.\n",
    "mp.figure(figsize=(10,5))\n",
    "mp.title(\"Cantidad de aprobados por Género\")\n",
    "mp.ylabel(\"Número de Estudiantes\")\n",
    "mp.xlabel(\"Género\")\n",
    "mp.yticks(range(0,5))\n",
    "seaborn.countplot(x=alumnosAprobados.Genero, hue = alumnosAprobados.Genero, palette=\"viridis\", edgecolor=\"black\", legend= False)"
   ]
  },
  {
   "cell_type": "markdown",
   "id": "d083d7ec-274c-4d96-ac20-72f3b023ba22",
   "metadata": {
    "editable": true,
    "slideshow": {
     "slide_type": ""
    },
    "tags": []
   },
   "source": [
    "### Apenas una sola estudiante ha apodido finalizar el curso con respecto a las 8 inscriptas en un comienzo. "
   ]
  },
  {
   "cell_type": "markdown",
   "id": "8cb04796-0f11-40e7-acfb-088f1de3b57f",
   "metadata": {},
   "source": [
    "## ¿Qué ocurre después con los egresados?"
   ]
  },
  {
   "cell_type": "code",
   "execution_count": 17,
   "id": "cdc39b44-3c50-426f-b6be-8b643f9e8ec0",
   "metadata": {},
   "outputs": [
    {
     "data": {
      "text/plain": [
       "<Axes: title={'center': 'Estudios Superiores Continúan'}, xlabel='Establecimientos Educativos', ylabel='Número de Estudiantes'>"
      ]
     },
     "execution_count": 17,
     "metadata": {},
     "output_type": "execute_result"
    },
    {
     "data": {
      "image/png": "[encoded data removed]",
      "text/plain": [
       "<Figure size 1000x500 with 1 Axes>"
      ]
     },
     "metadata": {},
     "output_type": "display_data"
    }
   ],
   "source": [
    "# Visualización de los alumnos que aprobaron el curso Programador.\n",
    "orden = alumnosAprobados[\"Continua Estudios\"].value_counts(ascending=True).index\n",
    "mp.figure(figsize=(10,5))\n",
    "mp.title(\"Estudios Superiores Continúan\")\n",
    "mp.ylabel(\"Número de Estudiantes\")\n",
    "mp.xlabel(\"Establecimientos Educativos\")\n",
    "mp.yticks(range(0,15))\n",
    "seaborn.countplot(x=alumnosAprobados[\"Continua Estudios\"], hue = alumnosAprobados[\"Continua Estudios\"], edgecolor=\"black\", legend= False)"
   ]
  },
  {
   "cell_type": "markdown",
   "id": "49d21687-5285-474c-80b6-cbe9d404401a",
   "metadata": {},
   "source": [
    "### Los estudiantes eligen este curso por diversas razones. Muchos lo ven como una vía para obtener el certificado oficial de Programador y un título reconocido por la DGCyE. Además, lo aprendido es de gran utilidad para quienes ingresan a carreras como Licenciatura en Sistemas o Informática, Ingeniería en Sistemas o Computación, o Tecnicaturas. Si bien este estudio solamente abarca el año 2024, la realidad es que desde que se dicta el curso, ese siempre ha sido el objetivo de varios estudiantes jóvenes, y les ha servido de mucho. \n",
    "\n",
    "### Otros estudiantes deciden seguir ampliando sus conocimientos tomando más cursos en el Centro de Formación Profesional actual, o de la localidad. \n",
    "### ¡Los estudiantes quieren seguir aprendiendo!"
   ]
  },
  {
   "cell_type": "markdown",
   "id": "96baff78-eeb5-48ef-9e7e-89ffc6e2a243",
   "metadata": {
    "editable": true,
    "slideshow": {
     "slide_type": ""
    },
    "tags": []
   },
   "source": [
    "## ¿Por qué hay más personas que abandonan el curso?"
   ]
  },
  {
   "cell_type": "code",
   "execution_count": 18,
   "id": "5694fdd9-dcaf-495f-8874-c18f82dca8d7",
   "metadata": {},
   "outputs": [
    {
     "data": {
      "text/html": [
       "<div>\n",
       "<style scoped>\n",
       "    .dataframe tbody tr th:only-of-type {\n",
       "        vertical-align: middle;\n",
       "    }\n",
       "\n",
       "    .dataframe tbody tr th {\n",
       "        vertical-align: top;\n",
       "    }\n",
       "\n",
       "    .dataframe thead th {\n",
       "        text-align: right;\n",
       "    }\n",
       "</style>\n",
       "<table border=\"1\" class=\"dataframe\">\n",
       "  <thead>\n",
       "    <tr style=\"text-align: right;\">\n",
       "      <th></th>\n",
       "      <th>Genero</th>\n",
       "      <th>Edad</th>\n",
       "      <th>Nacionalidad</th>\n",
       "      <th>Localidad</th>\n",
       "      <th>Finalizo</th>\n",
       "      <th>Motivos Abandono</th>\n",
       "      <th>Continua Estudios</th>\n",
       "    </tr>\n",
       "  </thead>\n",
       "  <tbody>\n",
       "    <tr>\n",
       "      <th>0</th>\n",
       "      <td>F</td>\n",
       "      <td>19</td>\n",
       "      <td>Argentina</td>\n",
       "      <td>Berisso</td>\n",
       "      <td>No</td>\n",
       "      <td>Personal</td>\n",
       "      <td>No</td>\n",
       "    </tr>\n",
       "    <tr>\n",
       "      <th>1</th>\n",
       "      <td>M</td>\n",
       "      <td>25</td>\n",
       "      <td>Argentina</td>\n",
       "      <td>Berisso</td>\n",
       "      <td>No</td>\n",
       "      <td>Laboral</td>\n",
       "      <td>No</td>\n",
       "    </tr>\n",
       "    <tr>\n",
       "      <th>2</th>\n",
       "      <td>F</td>\n",
       "      <td>35</td>\n",
       "      <td>Argentina</td>\n",
       "      <td>Berisso</td>\n",
       "      <td>No</td>\n",
       "      <td>Laboral</td>\n",
       "      <td>No</td>\n",
       "    </tr>\n",
       "    <tr>\n",
       "      <th>3</th>\n",
       "      <td>M</td>\n",
       "      <td>52</td>\n",
       "      <td>Argentina</td>\n",
       "      <td>Berisso</td>\n",
       "      <td>No</td>\n",
       "      <td>Personal</td>\n",
       "      <td>No</td>\n",
       "    </tr>\n",
       "    <tr>\n",
       "      <th>4</th>\n",
       "      <td>M</td>\n",
       "      <td>22</td>\n",
       "      <td>Argentina</td>\n",
       "      <td>Berisso</td>\n",
       "      <td>No</td>\n",
       "      <td>Otro</td>\n",
       "      <td>No</td>\n",
       "    </tr>\n",
       "    <tr>\n",
       "      <th>6</th>\n",
       "      <td>M</td>\n",
       "      <td>24</td>\n",
       "      <td>Argentina</td>\n",
       "      <td>Berisso</td>\n",
       "      <td>No</td>\n",
       "      <td>Personal</td>\n",
       "      <td>No</td>\n",
       "    </tr>\n",
       "    <tr>\n",
       "      <th>8</th>\n",
       "      <td>F</td>\n",
       "      <td>20</td>\n",
       "      <td>Argentina</td>\n",
       "      <td>Berisso</td>\n",
       "      <td>No</td>\n",
       "      <td>Otro</td>\n",
       "      <td>No</td>\n",
       "    </tr>\n",
       "    <tr>\n",
       "      <th>9</th>\n",
       "      <td>F</td>\n",
       "      <td>56</td>\n",
       "      <td>Argentina</td>\n",
       "      <td>Berisso</td>\n",
       "      <td>No</td>\n",
       "      <td>Personal</td>\n",
       "      <td>No</td>\n",
       "    </tr>\n",
       "    <tr>\n",
       "      <th>11</th>\n",
       "      <td>F</td>\n",
       "      <td>26</td>\n",
       "      <td>Argentina</td>\n",
       "      <td>Berisso</td>\n",
       "      <td>No</td>\n",
       "      <td>Laboral</td>\n",
       "      <td>No</td>\n",
       "    </tr>\n",
       "    <tr>\n",
       "      <th>12</th>\n",
       "      <td>F</td>\n",
       "      <td>58</td>\n",
       "      <td>Argentina</td>\n",
       "      <td>Berisso</td>\n",
       "      <td>No</td>\n",
       "      <td>Personal</td>\n",
       "      <td>No</td>\n",
       "    </tr>\n",
       "    <tr>\n",
       "      <th>13</th>\n",
       "      <td>F</td>\n",
       "      <td>38</td>\n",
       "      <td>Argentina</td>\n",
       "      <td>Berisso</td>\n",
       "      <td>No</td>\n",
       "      <td>Personal</td>\n",
       "      <td>No</td>\n",
       "    </tr>\n",
       "    <tr>\n",
       "      <th>15</th>\n",
       "      <td>M</td>\n",
       "      <td>19</td>\n",
       "      <td>Argentina</td>\n",
       "      <td>Berisso</td>\n",
       "      <td>No</td>\n",
       "      <td>Otro</td>\n",
       "      <td>No</td>\n",
       "    </tr>\n",
       "    <tr>\n",
       "      <th>17</th>\n",
       "      <td>M</td>\n",
       "      <td>19</td>\n",
       "      <td>Argentina</td>\n",
       "      <td>Berisso</td>\n",
       "      <td>No</td>\n",
       "      <td>Otro</td>\n",
       "      <td>No</td>\n",
       "    </tr>\n",
       "  </tbody>\n",
       "</table>\n",
       "</div>"
      ],
      "text/plain": [
       "   Genero  Edad Nacionalidad Localidad Finalizo Motivos Abandono  \\\n",
       "0       F    19    Argentina   Berisso       No         Personal   \n",
       "1       M    25    Argentina   Berisso       No          Laboral   \n",
       "2       F    35    Argentina   Berisso       No          Laboral   \n",
       "3       M    52    Argentina   Berisso       No         Personal   \n",
       "4       M    22    Argentina   Berisso       No             Otro   \n",
       "6       M    24    Argentina   Berisso       No         Personal   \n",
       "8       F    20    Argentina   Berisso       No             Otro   \n",
       "9       F    56    Argentina   Berisso       No         Personal   \n",
       "11      F    26    Argentina   Berisso       No          Laboral   \n",
       "12      F    58    Argentina   Berisso       No         Personal   \n",
       "13      F    38    Argentina   Berisso       No         Personal   \n",
       "15      M    19    Argentina   Berisso       No             Otro   \n",
       "17      M    19    Argentina   Berisso       No             Otro   \n",
       "\n",
       "   Continua Estudios  \n",
       "0                 No  \n",
       "1                 No  \n",
       "2                 No  \n",
       "3                 No  \n",
       "4                 No  \n",
       "6                 No  \n",
       "8                 No  \n",
       "9                 No  \n",
       "11                No  \n",
       "12                No  \n",
       "13                No  \n",
       "15                No  \n",
       "17                No  "
      ]
     },
     "execution_count": 18,
     "metadata": {},
     "output_type": "execute_result"
    }
   ],
   "source": [
    "# Filtrado de alumnos que abandonaron el curso.\n",
    "alumnosNoF = alumnos['Finalizo'] == 'No'\n",
    "alumnosAbandonaron = alumnos[alumnosNoF]\n",
    "alumnosAbandonaron"
   ]
  },
  {
   "cell_type": "code",
   "execution_count": 19,
   "id": "5491fcd3-329c-4cd4-92b9-e3dd50ce0375",
   "metadata": {
    "editable": true,
    "slideshow": {
     "slide_type": ""
    },
    "tags": []
   },
   "outputs": [
    {
     "data": {
      "text/plain": [
       "<Axes: title={'center': 'Causas de Abandono'}, xlabel='-----Motivos-----', ylabel='Número de Estudiantes'>"
      ]
     },
     "execution_count": 19,
     "metadata": {},
     "output_type": "execute_result"
    },
    {
     "data": {
      "image/png": "[encoded data removed]",
      "text/plain": [
       "<Figure size 1000x500 with 1 Axes>"
      ]
     },
     "metadata": {},
     "output_type": "display_data"
    }
   ],
   "source": [
    "# Visualización de alumnos que dejaron el curso.\n",
    "orden = alumnosAbandonaron[\"Motivos Abandono\"].value_counts(ascending=True).index\n",
    "mp.figure(figsize=(10,5))\n",
    "mp.title(\"Causas de Abandono\")\n",
    "mp.ylabel(\"Número de Estudiantes\")\n",
    "mp.xlabel(\"-----Motivos-----\")\n",
    "mp.yticks(range(0,15))\n",
    "seaborn.countplot(x=alumnosAbandonaron[\"Motivos Abandono\"], hue = alumnosAbandonaron[\"Motivos Abandono\"], edgecolor=\"black\", legend= False, order = orden)"
   ]
  },
  {
   "cell_type": "markdown",
   "id": "9f5381fe-f981-47cb-8961-a087e7dec80d",
   "metadata": {
    "editable": true,
    "slideshow": {
     "slide_type": ""
    },
    "tags": []
   },
   "source": [
    "### Motivos\n",
    "- Personales: Muchos se ven obligados a dejar el curso por situaciones familiares o económicas complicadas. Siempre se mantiene el contacto con estos alumnos para ser notificados cuando se reanuda el curso.\n",
    "\n",
    "- Laborales: A veces, los horarios de trabajo se superponen con los horarios de cursada. Aunque el curso les sirve para el futuro y es de su agrado, elegir el trabajo es prioridad. Siempre se mantiene el contacto con estos alumnos para ser notificados cuando se reanuda el curso.\n",
    "\n",
    "- Otros: Acá se encuentran aquellos estudiantes que se inscriben y al cabo de unos meses no asisten más. Este tipo de alumnos en general se ven obligados a venir porque son presionados por sus padres y siempre son los más jóvenes. No quieren tomar el curso por su propia voluntad. En otros casos simplemente no es lo que esperaban. Desde el principio, se les explica bien de qué va el curso y se les muestran los proyectos años anteriores hechas por ex-alumnos, para que sepan qué esperar. En menor medida se encuentran los alumnos que no se comportan como deben en el aula. "
   ]
  },
  {
   "cell_type": "code",
   "execution_count": null,
   "id": "54722bdb-bedd-48c4-956d-87d920676106",
   "metadata": {
    "editable": true,
    "slideshow": {
     "slide_type": ""
    },
    "tags": []
   },
   "outputs": [],
   "source": []
  }
 ],
 "metadata": {
  "kernelspec": {
   "display_name": "Python 3 (ipykernel)",
   "language": "python",
   "name": "python3"
  },
  "language_info": {
   "codemirror_mode": {
    "name": "ipython",
    "version": 3
   },
   "file_extension": ".py",
   "mimetype": "text/x-python",
   "name": "python",
   "nbconvert_exporter": "python",
   "pygments_lexer": "ipython3",
   "version": "3.13.2"
  }
 },
 "nbformat": 4,
 "nbformat_minor": 5
}
